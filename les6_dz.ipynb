{
 "cells": [
  {
   "cell_type": "markdown",
   "id": "713bacb6",
   "metadata": {},
   "source": [
    "## Урок 6. Взаимосвязь величин. Параметрические и непараметрические показатели корреляции. Корреляционный анализ."
   ]
  },
  {
   "cell_type": "markdown",
   "id": "4965f96d",
   "metadata": {},
   "source": [
    "#### Задание 1\n",
    "\n",
    "Даны значения величины заработной платы заемщиков банка (zp) и значения их поведенческого кредитного скоринга (ks):\n",
    "\n",
    "zp = [35, 45, 190, 200, 40, 70, 54, 150, 120, 110],\n",
    "\n",
    "ks = [401, 574, 874, 919, 459, 739, 653, 902, 746, 832].\n",
    "\n",
    "Найдите ковариацию этих двух величин с помощью элементарных действий, а затем с помощью функции cov из numpy\n",
    "Полученные значения должны быть равны.\n",
    "Найдите коэффициент корреляции Пирсона с помощью ковариации и среднеквадратичных отклонений двух признаков,\n",
    "а затем с использованием функций из библиотек numpy и pandas."
   ]
  },
  {
   "cell_type": "code",
   "execution_count": 1,
   "id": "44c21476",
   "metadata": {},
   "outputs": [],
   "source": [
    "import numpy as np\n",
    "\n",
    "zp = np.array([35, 45, 190, 200, 40, 70, 54, 150, 120, 110])\n",
    "ks = np.array([401, 574, 874, 919, 459, 739, 653, 902, 746, 832])"
   ]
  },
  {
   "cell_type": "code",
   "execution_count": 2,
   "id": "b4419284",
   "metadata": {},
   "outputs": [
    {
     "data": {
      "text/plain": [
       "(9157.839999999997, 0.8874900920739159)"
      ]
     },
     "execution_count": 2,
     "metadata": {},
     "output_type": "execute_result"
    }
   ],
   "source": [
    "cov = (np.mean(zp * ks) - np.mean(zp) * np.mean(ks)) # Смещенная ковариация\n",
    "zp_std = sum((zp - np.mean(zp)) ** 2 / len(zp)) ** 0.5 # Смещенное стандартное отклонение zp\n",
    "ks_std = sum((ks - np.mean(ks)) ** 2 / len(ks)) ** 0.5 # Смещенное стандартное отклонение ks\n",
    "r = cov / (zp_std * ks_std)\n",
    "cov, r"
   ]
  },
  {
   "cell_type": "code",
   "execution_count": 3,
   "id": "2e4fcdbc",
   "metadata": {},
   "outputs": [
    {
     "data": {
      "text/plain": [
       "(array([[ 3494.64,  9157.84],\n",
       "        [ 9157.84, 30468.89]]),\n",
       " array([[1.        , 0.88749009],\n",
       "        [0.88749009, 1.        ]]))"
      ]
     },
     "execution_count": 3,
     "metadata": {},
     "output_type": "execute_result"
    }
   ],
   "source": [
    "np.cov(zp, ks, ddof=0), np.corrcoef(zp, ks)"
   ]
  },
  {
   "cell_type": "code",
   "execution_count": 4,
   "id": "142b1a5a",
   "metadata": {},
   "outputs": [
    {
     "data": {
      "text/plain": [
       "(10175.377777777774, 0.887490092073916)"
      ]
     },
     "execution_count": 4,
     "metadata": {},
     "output_type": "execute_result"
    }
   ],
   "source": [
    "cov = len(zp) / (len(zp) - 1) * (np.mean(zp * ks) - np.mean(zp) * np.mean(ks)) # Несмещенная ковариация\n",
    "zp_std = sum((zp - np.mean(zp)) ** 2 / (len(zp) - 1)) ** 0.5 # Несмещенное стандартное отклонение zp\n",
    "ks_std = sum((ks - np.mean(ks)) ** 2 / (len(ks) - 1)) ** 0.5 # Несмещенное стандартное отклонение ks\n",
    "r = cov / (zp_std * ks_std)\n",
    "cov, r"
   ]
  },
  {
   "cell_type": "code",
   "execution_count": 5,
   "id": "17a6a8df",
   "metadata": {},
   "outputs": [
    {
     "data": {
      "text/plain": [
       "(array([[ 3882.93333333, 10175.37777778],\n",
       "        [10175.37777778, 33854.32222222]]),\n",
       " array([[1.        , 0.88749009],\n",
       "        [0.88749009, 1.        ]]))"
      ]
     },
     "execution_count": 5,
     "metadata": {},
     "output_type": "execute_result"
    }
   ],
   "source": [
    "np.cov(zp, ks, ddof=1), np.corrcoef(zp, ks)"
   ]
  },
  {
   "cell_type": "markdown",
   "id": "86e257de",
   "metadata": {},
   "source": [
    "#### Задание 2\n",
    "\n",
    "Измерены значения IQ выборки студентов, обучающихся в местных технических вузах:\n",
    "\n",
    "131, 125, 115, 122, 131, 115, 107, 99, 125, 111.\n",
    "\n",
    "Известно, что в генеральной совокупности IQ распределен нормально.\n",
    "Найдите доверительный интервал для математического ожидания с надежностью 0.95."
   ]
  },
  {
   "cell_type": "code",
   "execution_count": 6,
   "id": "abc29c42",
   "metadata": {},
   "outputs": [
    {
     "data": {
      "text/plain": [
       "(110.55660776308164, 125.64339223691834)"
      ]
     },
     "execution_count": 6,
     "metadata": {},
     "output_type": "execute_result"
    }
   ],
   "source": [
    "iq = np.array([131, 125, 115, 122, 131, 115, 107, 99, 125, 111])\n",
    "\n",
    "n = len(iq)\n",
    "mean = iq.mean()\n",
    "std = iq.std(ddof=1)\n",
    "t = 2.262\n",
    "\n",
    "mean - t * std / n ** 0.5, mean + t * std / n ** 0.5"
   ]
  },
  {
   "cell_type": "markdown",
   "id": "57e53e91",
   "metadata": {},
   "source": [
    "#### Задание 3\n",
    "Известно, что рост футболистов в сборной распределен нормально с дисперсией генеральной совокупности, равной 25 кв.см. Объем выборки равен 27, среднее выборочное составляет 174.2. Найдите доверительный интервал для математического\n",
    "ожидания с надежностью 0.95."
   ]
  },
  {
   "cell_type": "code",
   "execution_count": 7,
   "id": "1154174c",
   "metadata": {},
   "outputs": [
    {
     "data": {
      "text/plain": [
       "(172.31398912064722, 176.08601087935276)"
      ]
     },
     "execution_count": 7,
     "metadata": {},
     "output_type": "execute_result"
    }
   ],
   "source": [
    "n = 27\n",
    "std = 25 ** 0.5\n",
    "mean = 174.2\n",
    "z = 1.96\n",
    "\n",
    "mean - z * std / n ** 0.5, mean + z * std / n ** 0.5"
   ]
  }
 ],
 "metadata": {
  "kernelspec": {
   "display_name": "Python 3 (ipykernel)",
   "language": "python",
   "name": "python3"
  },
  "language_info": {
   "codemirror_mode": {
    "name": "ipython",
    "version": 3
   },
   "file_extension": ".py",
   "mimetype": "text/x-python",
   "name": "python",
   "nbconvert_exporter": "python",
   "pygments_lexer": "ipython3",
   "version": "3.9.7"
  }
 },
 "nbformat": 4,
 "nbformat_minor": 5
}
