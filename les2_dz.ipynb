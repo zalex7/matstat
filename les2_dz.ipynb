{
 "cells": [
  {
   "cell_type": "markdown",
   "id": "00f8110f",
   "metadata": {},
   "source": [
    "## Урок 2. Дискретные случайные величины. Закон распределения вероятностей. Биномиальный закон распределения. Распределение Пуассона"
   ]
  },
  {
   "cell_type": "code",
   "execution_count": 1,
   "id": "83f99c84",
   "metadata": {},
   "outputs": [],
   "source": [
    "import numpy as np"
   ]
  },
  {
   "cell_type": "markdown",
   "id": "e258ed7a",
   "metadata": {},
   "source": [
    "#### Задание 1\n",
    "Вероятность того, что стрелок попадет в мишень, выстрелив один раз, равна 0.8. Стрелок выстрелил 100 раз. \n",
    "Найдите вероятность того, что стрелок попадет в цель ровно 85 раз."
   ]
  },
  {
   "cell_type": "code",
   "execution_count": 2,
   "id": "c0f93d9a",
   "metadata": {},
   "outputs": [],
   "source": [
    "def combinations(n, k):\n",
    "    return int(np.math.factorial(n) / (np.math.factorial(k) * np.math.factorial(n - k)))"
   ]
  },
  {
   "cell_type": "markdown",
   "id": "55abe3b1",
   "metadata": {},
   "source": [
    "Задачу решаем с применением биномиального распределения, т.к. вероятность одного события высока, \n",
    "а количество событий относительно невелико."
   ]
  },
  {
   "cell_type": "markdown",
   "id": "7c0d8af1",
   "metadata": {},
   "source": [
    "$$P(X = k) = C_n^k p^k q^{(n-k)} $$"
   ]
  },
  {
   "cell_type": "code",
   "execution_count": 3,
   "id": "fa12ecb2",
   "metadata": {},
   "outputs": [
    {
     "data": {
      "text/plain": [
       "0.048061793700746556"
      ]
     },
     "execution_count": 3,
     "metadata": {},
     "output_type": "execute_result"
    }
   ],
   "source": [
    "P = combinations(100, 85) * 0.8 ** 85 * 0.2 ** 15\n",
    "P"
   ]
  },
  {
   "cell_type": "markdown",
   "id": "dfd2a4db",
   "metadata": {},
   "source": [
    "#### Задание 2\n",
    "Вероятность того, что лампочка перегорит в течение первого дня эксплуатации, равна 0.0004. В жилом комплексе после ремонта \n",
    "в один день включили 5000 новых лампочек. Какова вероятность, что ни одна из них не перегорит в первый день? \n",
    "Какова вероятность, что перегорят ровно две?"
   ]
  },
  {
   "cell_type": "markdown",
   "id": "99837a8f",
   "metadata": {},
   "source": [
    "Задачу решаем с применением распределения Пуассона, т.к. вероятность одного события невысока, а количество событий велико.\n"
   ]
  },
  {
   "cell_type": "markdown",
   "id": "106e6e78",
   "metadata": {},
   "source": [
    "$$P_m \\approx \\frac{\\lambda^m}{m!}e^{-\\lambda}$$"
   ]
  },
  {
   "cell_type": "code",
   "execution_count": 4,
   "id": "d18e7c4c",
   "metadata": {},
   "outputs": [
    {
     "data": {
      "text/plain": [
       "0.1353352832366127"
      ]
     },
     "execution_count": 4,
     "metadata": {},
     "output_type": "execute_result"
    }
   ],
   "source": [
    "# Какова вероятность, что ни одна из них не перегорит в первый день\n",
    "n = 5000\n",
    "m = 0\n",
    "p = 0.0004\n",
    "lambda_ = n * p\n",
    "\n",
    "(lambda_**m / np.math.factorial(m)) * np.exp(-lambda_)"
   ]
  },
  {
   "cell_type": "code",
   "execution_count": 5,
   "id": "1a1e0e00",
   "metadata": {},
   "outputs": [
    {
     "data": {
      "text/plain": [
       "0.2706705664732254"
      ]
     },
     "execution_count": 5,
     "metadata": {},
     "output_type": "execute_result"
    }
   ],
   "source": [
    "# Какова вероятность, что перегорят ровно две?\n",
    "n = 5000\n",
    "m = 2\n",
    "p = 0.0004\n",
    "lambda_ = n * p\n",
    "\n",
    "(lambda_**m / np.math.factorial(m)) * np.exp(-lambda_)"
   ]
  },
  {
   "cell_type": "markdown",
   "id": "c9802188",
   "metadata": {},
   "source": [
    "#### Задание 3\n",
    "Монету подбросили 144 раза. Какова вероятность, что орел выпадет ровно 70 раз?"
   ]
  },
  {
   "cell_type": "code",
   "execution_count": 6,
   "id": "a1b47433",
   "metadata": {},
   "outputs": [
    {
     "data": {
      "text/plain": [
       "0.06281178035144776"
      ]
     },
     "execution_count": 6,
     "metadata": {},
     "output_type": "execute_result"
    }
   ],
   "source": [
    "combinations(144, 70) * 0.5 ** 70 * 0.5 ** 74"
   ]
  },
  {
   "cell_type": "markdown",
   "id": "00412e2f",
   "metadata": {},
   "source": [
    "#### Задание 4\n",
    "В первом ящике находится 10 мячей, из которых 7 - белые. Во втором ящике - 11 мячей, из которых 9 белых. \n",
    "Из каждого ящика вытаскивают случайным образом по два мяча. Какова вероятность того, что все мячи белые? \n",
    "Какова вероятность того, что ровно два мяча белые? Какова вероятность того, что хотя бы один мяч белый?"
   ]
  },
  {
   "cell_type": "code",
   "execution_count": 7,
   "id": "df9aace9",
   "metadata": {},
   "outputs": [
    {
     "data": {
      "text/plain": [
       "0.30545454545454537"
      ]
     },
     "execution_count": 7,
     "metadata": {},
     "output_type": "execute_result"
    }
   ],
   "source": [
    "# Какова вероятность того, что все мячи белые?\n",
    "\n",
    "P1 = 7 / 10 * 6 / 9 # Вероятность вытащить два белых мяча из первого ящика\n",
    "P2 = 9 / 11 * 8 / 10 # Вероятность вытащить два белых мяча из второго ящика\n",
    "\n",
    "P = P1 * P2 #Вероятность совместного события\n",
    "P"
   ]
  },
  {
   "cell_type": "code",
   "execution_count": 8,
   "id": "76703e74",
   "metadata": {},
   "outputs": [
    {
     "data": {
      "text/plain": [
       "0.6757575757575758"
      ]
     },
     "execution_count": 8,
     "metadata": {},
     "output_type": "execute_result"
    }
   ],
   "source": [
    "# Какова вероятность того, что ровно два мяча белые?\n",
    "\n",
    "P11 = 7 / 10 * 3 / 9 + 3 / 10 * 6 / 9 # Вероятность вытащить ровно 1 белый мяч из первого ящика\n",
    "P21 = 9 / 11 * 2 / 10 + 3 / 11 * 8 / 10 # Вероятность вытащить ровно 1 белый мяч из второго ящика\n",
    "P1121 = P11 * P21 # Вероятность вытащить ровно 1 белый мяч из первого ящика и ровно 1 белый мяч из второго\n",
    "\n",
    "P12 = P1 * (1 - P2) # Совместная вероятность вытащить 2 мяча из первого ящика и не вытащить белые мячи из второго\n",
    "P22 = P2 * (1 - P1) # Совместная вероятность вытащить 2 мяча из второго ящика и не вытащить белые мячи из первого\n",
    "\n",
    "P = P12 + P22 + P1121\n",
    "P"
   ]
  },
  {
   "cell_type": "code",
   "execution_count": 9,
   "id": "fa1b3f24",
   "metadata": {},
   "outputs": [
    {
     "data": {
      "text/plain": [
       "0.9987878787878788"
      ]
     },
     "execution_count": 9,
     "metadata": {},
     "output_type": "execute_result"
    }
   ],
   "source": [
    "# Какова вероятность того, что хотя бы один мяч белый?\n",
    "\n",
    "# Сначала определим какова вероятность того, что все мячи не белые\n",
    "\n",
    "P1 = 3 / 10 * 2 / 9 # Вероятность вытащить два не белых мяча из первого ящика\n",
    "P2 = 2 / 11 * 1 / 10 # Вероятность вытащить два не белых мяча из второго ящика\n",
    "\n",
    "P = P1 * P2 #Вероятность совместного события\n",
    "\n",
    "#Искомая вероятность\n",
    "1 - P"
   ]
  }
 ],
 "metadata": {
  "kernelspec": {
   "display_name": "Python 3 (ipykernel)",
   "language": "python",
   "name": "python3"
  },
  "language_info": {
   "codemirror_mode": {
    "name": "ipython",
    "version": 3
   },
   "file_extension": ".py",
   "mimetype": "text/x-python",
   "name": "python",
   "nbconvert_exporter": "python",
   "pygments_lexer": "ipython3",
   "version": "3.9.7"
  }
 },
 "nbformat": 4,
 "nbformat_minor": 5
}
