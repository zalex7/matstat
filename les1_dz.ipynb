{
 "cells": [
  {
   "cell_type": "markdown",
   "id": "2ac8f02c",
   "metadata": {},
   "source": [
    "## Урок 1. Домашнее задание"
   ]
  },
  {
   "cell_type": "markdown",
   "id": "51d04361",
   "metadata": {},
   "source": [
    "#### Подготовка"
   ]
  },
  {
   "cell_type": "markdown",
   "id": "b9126597",
   "metadata": {},
   "source": [
    "Число **сочетаний** из $n$ элементов по $k$:\n",
    "$$C_n^k = \\frac{n!}{k!(n - k)!}$$"
   ]
  },
  {
   "cell_type": "code",
   "execution_count": 1,
   "id": "a0ccdd1e",
   "metadata": {},
   "outputs": [],
   "source": [
    "from math import factorial\n",
    "\n",
    "def combinations(n, k):\n",
    "    return int(factorial(n) / (factorial(k) * factorial(n - k)))"
   ]
  },
  {
   "cell_type": "markdown",
   "id": "01dd7566",
   "metadata": {},
   "source": [
    "Число **размещений** из $n$ элементов по $k$ элементов в каждом:\n",
    "$$A_n^k = \\frac{n!}{(n - k)!}$$"
   ]
  },
  {
   "cell_type": "code",
   "execution_count": 2,
   "id": "2fcbfff7",
   "metadata": {},
   "outputs": [],
   "source": [
    "def arrangements(n, k):\n",
    "    return int(factorial(n) / factorial(n - k))"
   ]
  },
  {
   "cell_type": "markdown",
   "id": "2527d8f4",
   "metadata": {},
   "source": [
    "Число **перестановок** из $n$ элементов:\n",
    "$$P_n = n!$$"
   ]
  },
  {
   "cell_type": "code",
   "execution_count": 3,
   "id": "15069bab",
   "metadata": {},
   "outputs": [],
   "source": [
    "def permutations(n):\n",
    "    return int(factorial(n))"
   ]
  },
  {
   "cell_type": "markdown",
   "id": "608e82b1",
   "metadata": {},
   "source": [
    "#### Задание 1"
   ]
  },
  {
   "cell_type": "markdown",
   "id": "00d40157",
   "metadata": {},
   "source": [
    "Из колоды в 52 карты извлекаются случайным образом 4 карты. \n",
    "\n",
    "1. Найти вероятность того, что все карты – крести. \n",
    "2. Найти вероятность, что среди 4-х карт окажется хотя бы один туз."
   ]
  },
  {
   "cell_type": "code",
   "execution_count": 4,
   "id": "c44bb499",
   "metadata": {},
   "outputs": [
    {
     "data": {
      "text/plain": [
       "0.0021390374331550803"
      ]
     },
     "execution_count": 4,
     "metadata": {},
     "output_type": "execute_result"
    }
   ],
   "source": [
    "# 1. \n",
    "# Число благоприятствующих исходов - подмножество крестей - количество сочетаний из 9 по 4\n",
    "plus_outcomes = combinations(9, 4)\n",
    "\n",
    "# Число всех исходов\n",
    "all_outcomes = combinations(36, 4)\n",
    "\n",
    "# Вероятность\n",
    "P = plus_outcomes / all_outcomes\n",
    "P"
   ]
  },
  {
   "cell_type": "code",
   "execution_count": 5,
   "id": "5ad615af",
   "metadata": {},
   "outputs": [
    {
     "data": {
      "text/plain": [
       "0.4444444444444444"
      ]
     },
     "execution_count": 5,
     "metadata": {},
     "output_type": "execute_result"
    }
   ],
   "source": [
    "# 2.\n",
    "# Число благоприятствующих исходов:\n",
    "# Подмножество тузов\n",
    "ace = combinations(4, 1)\n",
    "\n",
    "# Подмножество не тузов\n",
    "not_ace = combinations(35, 3)\n",
    "\n",
    "plus_outcomes = ace * not_ace\n",
    "\n",
    "# Число всех исходов\n",
    "all_outcomes = combinations(36, 4)\n",
    "\n",
    "# Вероятность\n",
    "P = plus_outcomes / all_outcomes\n",
    "P"
   ]
  },
  {
   "cell_type": "markdown",
   "id": "f8a61950",
   "metadata": {},
   "source": [
    "#### Задание 2"
   ]
  },
  {
   "cell_type": "markdown",
   "id": "fabba465",
   "metadata": {},
   "source": [
    "На входной двери подъезда установлен кодовый замок, содержащий десять кнопок с цифрами от 0 до 9. \n",
    "Код содержит три цифры, которые нужно нажать одновременно. Какова вероятность того, что человек, не знающий код, \n",
    "откроет дверь с первой попытки?"
   ]
  },
  {
   "cell_type": "code",
   "execution_count": 6,
   "id": "fa8201d8",
   "metadata": {},
   "outputs": [
    {
     "data": {
      "text/plain": [
       "0.001388888888888889"
      ]
     },
     "execution_count": 6,
     "metadata": {},
     "output_type": "execute_result"
    }
   ],
   "source": [
    "P = 1/10 * 1/9 * 1/8\n",
    "P"
   ]
  },
  {
   "cell_type": "markdown",
   "id": "5f9cffad",
   "metadata": {},
   "source": [
    "#### Задание 3"
   ]
  },
  {
   "cell_type": "markdown",
   "id": "74e9239d",
   "metadata": {},
   "source": [
    "В ящике имеется 15 деталей, из которых 9 окрашены. Рабочий случайным образом извлекает 3 детали. \n",
    "Какова вероятность того, что все извлеченные детали окрашены?"
   ]
  },
  {
   "cell_type": "code",
   "execution_count": 7,
   "id": "7de70908",
   "metadata": {},
   "outputs": [
    {
     "data": {
      "text/plain": [
       "0.18461538461538457"
      ]
     },
     "execution_count": 7,
     "metadata": {},
     "output_type": "execute_result"
    }
   ],
   "source": [
    "# Вероятность вытащить первую окрашенную деталь:\n",
    "P1 = 9 / 15\n",
    "\n",
    "# Вероятность вытащить вторую окрашенную деталь\n",
    "P2 = 8 / 14\n",
    "\n",
    "# Вероятность выбрать третью окрашенную деталь\n",
    "P3 = 7 / 13\n",
    "\n",
    "# Совместная вероятность\n",
    "P = P1 * P2 * P3\n",
    "P"
   ]
  },
  {
   "cell_type": "markdown",
   "id": "9c859ee9",
   "metadata": {},
   "source": [
    "#### Задание 4"
   ]
  },
  {
   "cell_type": "markdown",
   "id": "a068abc7",
   "metadata": {},
   "source": [
    "В лотерее 100 билетов. Из них 2 выигрышных. Какова вероятность того, что 2 приобретенных билета окажутся выигрышными?"
   ]
  },
  {
   "cell_type": "code",
   "execution_count": 8,
   "id": "f9c97fd3",
   "metadata": {},
   "outputs": [
    {
     "data": {
      "text/plain": [
       "0.00020202020202020205"
      ]
     },
     "execution_count": 8,
     "metadata": {},
     "output_type": "execute_result"
    }
   ],
   "source": [
    "# Вероятность того, что первый билет выигрышный\n",
    "P1 = 2 / 100\n",
    "\n",
    "# Вероятность того, что второй билет выигрышный при условии, что первый выигрышный:\n",
    "P2 = 1 / 99\n",
    "\n",
    "# Совместная вероятность\n",
    "P = P1 * P2\n",
    "P"
   ]
  }
 ],
 "metadata": {
  "kernelspec": {
   "display_name": "Python 3 (ipykernel)",
   "language": "python",
   "name": "python3"
  },
  "language_info": {
   "codemirror_mode": {
    "name": "ipython",
    "version": 3
   },
   "file_extension": ".py",
   "mimetype": "text/x-python",
   "name": "python",
   "nbconvert_exporter": "python",
   "pygments_lexer": "ipython3",
   "version": "3.10.5"
  }
 },
 "nbformat": 4,
 "nbformat_minor": 5
}
