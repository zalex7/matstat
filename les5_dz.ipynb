{
 "cells": [
  {
   "cell_type": "markdown",
   "id": "515ada1b",
   "metadata": {},
   "source": [
    "## Урок 5. Проверка статистических гипотез. P-значения. Доверительные интервалы. A/B-тестирование"
   ]
  },
  {
   "cell_type": "code",
   "execution_count": 6,
   "id": "31446ef5",
   "metadata": {},
   "outputs": [],
   "source": [
    "import numpy as np"
   ]
  },
  {
   "cell_type": "markdown",
   "id": "f54e8ef1",
   "metadata": {},
   "source": [
    "#### Задание 1\n",
    "Известно, что генеральная совокупность распределена нормально\n",
    "со средним квадратическим отклонением, равным 16.\n",
    "Найти доверительный интервал для оценки математического ожидания a с надежностью 0.95,\n",
    "если выборочная средняя M = 80, а объем выборки n = 256."
   ]
  },
  {
   "cell_type": "code",
   "execution_count": 3,
   "id": "aebf1f65",
   "metadata": {},
   "outputs": [
    {
     "name": "stdout",
     "output_type": "stream",
     "text": [
      "Доверительный интервал [78.04, 81.96]\n"
     ]
    }
   ],
   "source": [
    "Z = 1.96\n",
    "M = 80\n",
    "n = 256\n",
    "sigma = 16\n",
    "x1 = M - Z * sigma / n ** 0.5\n",
    "x2 = M + Z * sigma / n ** 0.5\n",
    "print(f\"Доверительный интервал [{x1}, {x2}]\")"
   ]
  },
  {
   "cell_type": "markdown",
   "id": "9df323a6",
   "metadata": {},
   "source": [
    "#### Задание 2\n",
    "В результате 10 независимых измерений некоторой величины X, выполненных с одинаковой точностью,\n",
    "получены опытные данные:\n",
    "6.9, 6.1, 6.2, 6.8, 7.5, 6.3, 6.4, 6.9, 6.7, 6.1\n",
    "Предполагая, что результаты измерений подчинены нормальному закону распределения вероятностей,\n",
    "оценить истинное значение величины X при помощи доверительного интервала, покрывающего это\n",
    "значение с доверительной вероятностью 0,95."
   ]
  },
  {
   "cell_type": "code",
   "execution_count": 16,
   "id": "0f440c60",
   "metadata": {},
   "outputs": [
    {
     "name": "stdout",
     "output_type": "stream",
     "text": [
      "Доверительный интервал [6.2675, 6.9125]\n"
     ]
    }
   ],
   "source": [
    "X = [6.9, 6.1, 6.2, 6.8, 7.5, 6.3, 6.4, 6.9, 6.7, 6.1]\n",
    "n = len(X)\n",
    "M = np.mean(X)\n",
    "t = 2.262\n",
    "sigma_n = np.std(X, ddof=1)\n",
    "x1 = M - t * sigma_n / n ** 0.5\n",
    "x2 = M + t * sigma_n / n ** 0.5\n",
    "print(f\"Доверительный интервал [{round(x1, 4)}, {round(x2, 4)}]\")"
   ]
  },
  {
   "cell_type": "markdown",
   "id": "aa7eb7e4",
   "metadata": {},
   "source": [
    "#### Задание 3\n",
    "Проведите тест гипотезы. Утверждается, что шарики для подшипников, изготовленные автоматическим станком, имеют средний диаметр 17 мм.\n",
    "Используя односторонний критерий с α=0,05, проверить эту гипотезу, если в выборке из n=100 шариков средний диаметр\n",
    "оказался равным 17.5 мм, а дисперсия известна и равна 4 кв. мм."
   ]
  },
  {
   "cell_type": "code",
   "execution_count": 19,
   "id": "29aaf29c",
   "metadata": {},
   "outputs": [
    {
     "name": "stdout",
     "output_type": "stream",
     "text": [
      "Верна гипотеза H0.\n"
     ]
    }
   ],
   "source": [
    "M = 17\n",
    "X = 17.5\n",
    "sigma = 4\n",
    "n = 100\n",
    "Z_n = (X - M) / sigma / n ** 0.5\n",
    "Z = 1.65\n",
    "print(f\"Верна гипотеза {'H1' if Z_n > Z else 'H0'}.\")"
   ]
  },
  {
   "cell_type": "markdown",
   "id": "02295f69",
   "metadata": {},
   "source": [
    "#### Задание 4\n",
    "Проведите тест гипотезы. Продавец утверждает, что средний вес пачки печенья составляет 200 г.\n",
    "Из партии извлечена выборка из 10 пачек. Вес каждой пачки составляет:\n",
    "202, 203, 199, 197, 195, 201, 200, 204, 194, 190.\n",
    "Известно, что их веса распределены нормально.\n",
    "Верно ли утверждение продавца, если учитывать, что доверительная вероятность равна 99%? (Провести двусторонний тест.)"
   ]
  },
  {
   "cell_type": "code",
   "execution_count": 21,
   "id": "23b42fb4",
   "metadata": {},
   "outputs": [
    {
     "name": "stdout",
     "output_type": "stream",
     "text": [
      "Верна гипотеза H0.\n"
     ]
    }
   ],
   "source": [
    "X = [202, 203, 199, 197, 195, 201, 200, 204, 194, 190]\n",
    "n = len(X)\n",
    "M_X = np.mean(X)\n",
    "M = 200\n",
    "t1 = -3.25\n",
    "t2 = 3.25\n",
    "sigma_n = np.std(X, ddof=1)\n",
    "t_n = (M_X - M) / sigma_n / n ** 0.5\n",
    "print(f\"Верна гипотеза {'H1' if t_n > t2 or t_n < t1 else 'H0'}.\")"
   ]
  },
  {
   "cell_type": "code",
   "execution_count": 22,
   "id": "8d2d4808",
   "metadata": {},
   "outputs": [
    {
     "data": {
      "text/plain": [
       "-0.10651074037450894"
      ]
     },
     "execution_count": 22,
     "metadata": {},
     "output_type": "execute_result"
    }
   ],
   "source": [
    "t_n"
   ]
  },
  {
   "cell_type": "code",
   "execution_count": 23,
   "id": "1bd8033e",
   "metadata": {},
   "outputs": [
    {
     "data": {
      "text/plain": [
       "198.5"
      ]
     },
     "execution_count": 23,
     "metadata": {},
     "output_type": "execute_result"
    }
   ],
   "source": [
    "M_X"
   ]
  }
 ],
 "metadata": {
  "kernelspec": {
   "display_name": "Python 3 (ipykernel)",
   "language": "python",
   "name": "python3"
  },
  "language_info": {
   "codemirror_mode": {
    "name": "ipython",
    "version": 3
   },
   "file_extension": ".py",
   "mimetype": "text/x-python",
   "name": "python",
   "nbconvert_exporter": "python",
   "pygments_lexer": "ipython3",
   "version": "3.10.5"
  }
 },
 "nbformat": 4,
 "nbformat_minor": 5
}
