{
 "cells": [
  {
   "cell_type": "markdown",
   "id": "1f13b502",
   "metadata": {},
   "source": [
    "## Урок 4. Непрерывные случайные величины. Функция распределения и плотность распределения вероятностей. Равномерное и нормальное распределение. Центральная предельная теорема"
   ]
  },
  {
   "cell_type": "markdown",
   "id": "da08f700",
   "metadata": {},
   "source": [
    "#### Задание 1\n",
    "Случайная непрерывная величина A имеет равномерное распределение на промежутке (200, 800].\n",
    "\n",
    "Найдите ее среднее значение и дисперсию."
   ]
  },
  {
   "cell_type": "code",
   "execution_count": 1,
   "id": "a41434f7",
   "metadata": {},
   "outputs": [
    {
     "data": {
      "text/plain": [
       "500.0"
      ]
     },
     "execution_count": 1,
     "metadata": {},
     "output_type": "execute_result"
    }
   ],
   "source": [
    "mean = (200 + 800) / 2\n",
    "mean"
   ]
  },
  {
   "cell_type": "code",
   "execution_count": 2,
   "id": "7717ee47",
   "metadata": {},
   "outputs": [
    {
     "data": {
      "text/plain": [
       "30000.0"
      ]
     },
     "execution_count": 2,
     "metadata": {},
     "output_type": "execute_result"
    }
   ],
   "source": [
    "var = (800 - 200) ** 2 / 12\n",
    "var"
   ]
  },
  {
   "cell_type": "markdown",
   "id": "a6e561a6",
   "metadata": {},
   "source": [
    "#### Задание 2\n",
    "О случайной непрерывной равномерно распределенной величине B известно, что ее дисперсия равна 0.2.\n",
    "Можно ли найти правую границу величины B и ее среднее значение зная, что левая граница равна 0.5?\n",
    "Если да, найдите ее."
   ]
  },
  {
   "cell_type": "code",
   "execution_count": 3,
   "id": "ca14aff0",
   "metadata": {},
   "outputs": [
    {
     "name": "stdout",
     "output_type": "stream",
     "text": [
      "b1 = 2.049193338482967, b2 =-1.0491933384829668\n"
     ]
    }
   ],
   "source": [
    "var = 0.2\n",
    "a = 0.5\n",
    "b1 = (12 * var) ** 0.5 + a\n",
    "b2 = - (12 * var) ** 0.5 + a\n",
    "print(f\"{b1 = }, {b2 =}\")"
   ]
  },
  {
   "cell_type": "markdown",
   "id": "204f6516",
   "metadata": {},
   "source": [
    "#### Задание 3\n",
    "Непрерывная случайная величина X распределена нормально и задана плотностью распределения\n",
    "f(x) = (1 / (4 * sqrt(2*pi))) * (exp(-((x+2)**2) / 32))\n",
    "Найдите:\n",
    "1. M(X)\n",
    "2. D(X)\n",
    "3. std(X) (среднее квадратичное отклонение)"
   ]
  },
  {
   "cell_type": "code",
   "execution_count": 4,
   "id": "37ca1399",
   "metadata": {},
   "outputs": [],
   "source": [
    "mean = -2\n",
    "var = 16\n",
    "std = 4"
   ]
  },
  {
   "cell_type": "markdown",
   "id": "21c9bdb4",
   "metadata": {},
   "source": [
    "#### Задание 4\n",
    "Рост взрослого населения города X имеет нормальное распределение.\n",
    "Причем, средний рост равен 174 см, а среднее квадратичное отклонение равно 8 см.\n",
    "\n",
    "Какова вероятность того, что случайным образом выбранный взрослый человек имеет рост:\n",
    "1. больше 182 см\n",
    "2. больше 190 см\n",
    "3. от 166 см до 190 см\n",
    "4. от 166 см до 182 см\n",
    "5. от 158 см до 190 см\n",
    "6. не выше 150 см или не ниже 190 см\n",
    "7. не выше 150 см или не ниже 198 см\n",
    "8. ниже 166 см."
   ]
  },
  {
   "cell_type": "code",
   "execution_count": 5,
   "id": "b664ef5f",
   "metadata": {},
   "outputs": [
    {
     "data": {
      "text/plain": [
       "0.15866000000000002"
      ]
     },
     "execution_count": 5,
     "metadata": {},
     "output_type": "execute_result"
    }
   ],
   "source": [
    "z1 = (182 - 174) / 8\n",
    "P1 = 1 - 0.84134\n",
    "P1"
   ]
  },
  {
   "cell_type": "code",
   "execution_count": 6,
   "id": "a61a8270",
   "metadata": {},
   "outputs": [
    {
     "data": {
      "text/plain": [
       "0.022750000000000048"
      ]
     },
     "execution_count": 6,
     "metadata": {},
     "output_type": "execute_result"
    }
   ],
   "source": [
    "z2 = (190 - 174) / 8\n",
    "P2 = 1 - 0.97725\n",
    "P2"
   ]
  },
  {
   "cell_type": "code",
   "execution_count": 7,
   "id": "666ad32f",
   "metadata": {},
   "outputs": [
    {
     "data": {
      "text/plain": [
       "0.8185899999999999"
      ]
     },
     "execution_count": 7,
     "metadata": {},
     "output_type": "execute_result"
    }
   ],
   "source": [
    "z3 = (166 - 174) / 8\n",
    "P3 = 0.97725 - 0.15866\n",
    "P3"
   ]
  },
  {
   "cell_type": "code",
   "execution_count": 8,
   "id": "2cf04d4a",
   "metadata": {},
   "outputs": [
    {
     "data": {
      "text/plain": [
       "0.68268"
      ]
     },
     "execution_count": 8,
     "metadata": {},
     "output_type": "execute_result"
    }
   ],
   "source": [
    "P4 = 0.84134 - 0.15866\n",
    "P4"
   ]
  },
  {
   "cell_type": "code",
   "execution_count": 9,
   "id": "155639f6",
   "metadata": {},
   "outputs": [
    {
     "data": {
      "text/plain": [
       "-2.0"
      ]
     },
     "execution_count": 9,
     "metadata": {},
     "output_type": "execute_result"
    }
   ],
   "source": [
    "z4 = (158 - 174) / 8\n",
    "z4"
   ]
  },
  {
   "cell_type": "code",
   "execution_count": 10,
   "id": "1c29efd9",
   "metadata": {},
   "outputs": [
    {
     "data": {
      "text/plain": [
       "0.9544999999999999"
      ]
     },
     "execution_count": 10,
     "metadata": {},
     "output_type": "execute_result"
    }
   ],
   "source": [
    "P5 = 0.97725 - 0.02275\n",
    "P5"
   ]
  },
  {
   "cell_type": "code",
   "execution_count": 11,
   "id": "1fae0c36",
   "metadata": {},
   "outputs": [
    {
     "data": {
      "text/plain": [
       "-3.0"
      ]
     },
     "execution_count": 11,
     "metadata": {},
     "output_type": "execute_result"
    }
   ],
   "source": [
    "z5 = (150 - 174) / 8\n",
    "z5"
   ]
  },
  {
   "cell_type": "code",
   "execution_count": 12,
   "id": "b251b017",
   "metadata": {},
   "outputs": [
    {
     "data": {
      "text/plain": [
       "0.16001"
      ]
     },
     "execution_count": 12,
     "metadata": {},
     "output_type": "execute_result"
    }
   ],
   "source": [
    "P6 = 0.00135 + P1\n",
    "P6"
   ]
  },
  {
   "cell_type": "code",
   "execution_count": 13,
   "id": "b03b393f",
   "metadata": {},
   "outputs": [
    {
     "data": {
      "text/plain": [
       "3.0"
      ]
     },
     "execution_count": 13,
     "metadata": {},
     "output_type": "execute_result"
    }
   ],
   "source": [
    "z6 = (198 - 174) / 8\n",
    "z6"
   ]
  },
  {
   "cell_type": "code",
   "execution_count": 14,
   "id": "74016053",
   "metadata": {},
   "outputs": [
    {
     "data": {
      "text/plain": [
       "0.0026999999999999247"
      ]
     },
     "execution_count": 14,
     "metadata": {},
     "output_type": "execute_result"
    }
   ],
   "source": [
    "P7 = 0.00135 + 1 - 0.99865\n",
    "P7"
   ]
  },
  {
   "cell_type": "code",
   "execution_count": 15,
   "id": "1ff01363",
   "metadata": {},
   "outputs": [],
   "source": [
    "P8 = 0.97725"
   ]
  },
  {
   "cell_type": "markdown",
   "id": "47be2586",
   "metadata": {},
   "source": [
    "#### Задание 5\n",
    "На сколько сигм (средних квадратичных отклонений) отклоняется рост человека, равный 190 см, от\n",
    "математического ожидания роста в популяции, в которой M(X) = 178 см и D(X) = 25 кв.см?"
   ]
  },
  {
   "cell_type": "code",
   "execution_count": 16,
   "id": "b36dc2cb",
   "metadata": {},
   "outputs": [
    {
     "data": {
      "text/plain": [
       "2.4"
      ]
     },
     "execution_count": 16,
     "metadata": {},
     "output_type": "execute_result"
    }
   ],
   "source": [
    "delta = (190 - 178) / 5\n",
    "delta"
   ]
  }
 ],
 "metadata": {
  "kernelspec": {
   "display_name": "Python 3 (ipykernel)",
   "language": "python",
   "name": "python3"
  },
  "language_info": {
   "codemirror_mode": {
    "name": "ipython",
    "version": 3
   },
   "file_extension": ".py",
   "mimetype": "text/x-python",
   "name": "python",
   "nbconvert_exporter": "python",
   "pygments_lexer": "ipython3",
   "version": "3.10.5"
  }
 },
 "nbformat": 4,
 "nbformat_minor": 5
}
