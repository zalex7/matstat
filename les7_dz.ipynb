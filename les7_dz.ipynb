{
 "cells": [
  {
   "cell_type": "markdown",
   "id": "f3d1abdd",
   "metadata": {},
   "source": [
    "## Урок 7. Многомерный статистический анализ. Линейная регрессия"
   ]
  },
  {
   "cell_type": "markdown",
   "id": "e17b5f4c",
   "metadata": {},
   "source": [
    "#### Задание 1\n",
    "Даны значения величины заработной платы заемщиков банка (zp) и значения их поведенческого кредитного скоринга (ks): \n",
    "zp = [35, 45, 190, 200, 40, 70, 54, 150, 120, 110], ks = [401, 574, 874, 919, 459, 739, 653, 902, 746, 832]. \n",
    "Используя математические операции, посчитать коэффициенты линейной регрессии, приняв за X заработную плату \n",
    "(то есть, zp - признак), а за y - значения скорингового балла (то есть, ks - целевая переменная). \n",
    "Произвести расчет как с использованием intercept, так и без."
   ]
  },
  {
   "cell_type": "code",
   "execution_count": 1,
   "id": "9f630b0f",
   "metadata": {},
   "outputs": [
    {
     "data": {
      "text/plain": [
       "(array([ 35,  45, 190, 200,  40,  70,  54, 150, 120, 110]),\n",
       " array([401, 574, 874, 919, 459, 739, 653, 902, 746, 832]))"
      ]
     },
     "execution_count": 1,
     "metadata": {},
     "output_type": "execute_result"
    }
   ],
   "source": [
    "import numpy as np\n",
    "\n",
    "zp = [35, 45, 190, 200, 40, 70, 54, 150, 120, 110] \n",
    "ks = [401, 574, 874, 919, 459, 739, 653, 902, 746, 832]\n",
    "\n",
    "n = len(zp)\n",
    "X = np.array(zp)\n",
    "\n",
    "y = np.array(ks)\n",
    "\n",
    "X, y"
   ]
  },
  {
   "cell_type": "code",
   "execution_count": 2,
   "id": "eee98015",
   "metadata": {},
   "outputs": [
    {
     "data": {
      "text/plain": [
       "2.620538882402765"
      ]
     },
     "execution_count": 2,
     "metadata": {},
     "output_type": "execute_result"
    }
   ],
   "source": [
    "b = (np.mean(X * y) - np.mean(X) * np.mean(y)) / (np.mean(X ** 2) - np.mean(X) ** 2)\n",
    "b"
   ]
  },
  {
   "cell_type": "code",
   "execution_count": 3,
   "id": "f96c1ed9",
   "metadata": {},
   "outputs": [
    {
     "data": {
      "text/plain": [
       "2.6205388824027653"
      ]
     },
     "execution_count": 3,
     "metadata": {},
     "output_type": "execute_result"
    }
   ],
   "source": [
    "b = (n * (np.sum(X *y)) - (np.sum(X) * np.sum(y))) / (n * (np.sum(X ** 2)) - ((np.sum(X) ** 2)))\n",
    "b"
   ]
  },
  {
   "cell_type": "code",
   "execution_count": 4,
   "id": "6252062e",
   "metadata": {},
   "outputs": [
    {
     "data": {
      "text/plain": [
       "444.17735732435955"
      ]
     },
     "execution_count": 4,
     "metadata": {},
     "output_type": "execute_result"
    }
   ],
   "source": [
    "a = np.mean(y) - b * np.mean(X)\n",
    "a"
   ]
  },
  {
   "cell_type": "code",
   "execution_count": 5,
   "id": "41e7a888",
   "metadata": {},
   "outputs": [
    {
     "data": {
      "image/png": "[encoded data removed]",
      "text/plain": [
       "<Figure size 432x288 with 1 Axes>"
      ]
     },
     "metadata": {
      "needs_background": "light"
     },
     "output_type": "display_data"
    }
   ],
   "source": [
    "# Проверка\n",
    "\n",
    "import matplotlib.pyplot as plt\n",
    "%matplotlib inline\n",
    "plt.scatter(X, y)\n",
    "plt.plot(X, a + b * X)\n",
    "plt.show()\n"
   ]
  },
  {
   "cell_type": "code",
   "execution_count": 6,
   "id": "ddd891e4",
   "metadata": {},
   "outputs": [],
   "source": [
    "X = X.reshape((n, 1))\n",
    "y = y.reshape((n, 1))"
   ]
  },
  {
   "cell_type": "code",
   "execution_count": 7,
   "id": "182ce562",
   "metadata": {},
   "outputs": [
    {
     "data": {
      "text/plain": [
       "array([[5.88982042]])"
      ]
     },
     "execution_count": 7,
     "metadata": {},
     "output_type": "execute_result"
    }
   ],
   "source": [
    "b = np.dot(np.linalg.inv(np.dot(X.T, X)), X.T@y)\n",
    "b #Без интерсепта"
   ]
  },
  {
   "cell_type": "code",
   "execution_count": 8,
   "id": "ae2d4a94",
   "metadata": {},
   "outputs": [
    {
     "data": {
      "image/png": "[encoded data removed]",
      "text/plain": [
       "<Figure size 432x288 with 1 Axes>"
      ]
     },
     "metadata": {
      "needs_background": "light"
     },
     "output_type": "display_data"
    }
   ],
   "source": [
    "# Проверка\n",
    "\n",
    "import matplotlib.pyplot as plt\n",
    "%matplotlib inline\n",
    "plt.scatter(X, y)\n",
    "plt.plot(X, b * X)\n",
    "plt.show()\n"
   ]
  },
  {
   "cell_type": "code",
   "execution_count": 9,
   "id": "3131fd97",
   "metadata": {},
   "outputs": [
    {
     "data": {
      "text/plain": [
       "array([[  1.,  35.],\n",
       "       [  1.,  45.],\n",
       "       [  1., 190.],\n",
       "       [  1., 200.],\n",
       "       [  1.,  40.],\n",
       "       [  1.,  70.],\n",
       "       [  1.,  54.],\n",
       "       [  1., 150.],\n",
       "       [  1., 120.],\n",
       "       [  1., 110.]])"
      ]
     },
     "execution_count": 9,
     "metadata": {},
     "output_type": "execute_result"
    }
   ],
   "source": [
    "X = np.hstack([np.ones((n, 1)), X])\n",
    "X"
   ]
  },
  {
   "cell_type": "code",
   "execution_count": 10,
   "id": "edb00791",
   "metadata": {},
   "outputs": [
    {
     "data": {
      "text/plain": [
       "array([[444.17735732],\n",
       "       [  2.62053888]])"
      ]
     },
     "execution_count": 10,
     "metadata": {},
     "output_type": "execute_result"
    }
   ],
   "source": [
    "b = np.dot(np.linalg.inv(np.dot(X.T, X)), X.T@y)\n",
    "b #С интерсептом"
   ]
  },
  {
   "cell_type": "code",
   "execution_count": 11,
   "id": "b6a63312",
   "metadata": {},
   "outputs": [
    {
     "data": {
      "text/plain": [
       "array([ 35.,  45., 190., 200.,  40.,  70.,  54., 150., 120., 110.])"
      ]
     },
     "execution_count": 11,
     "metadata": {},
     "output_type": "execute_result"
    }
   ],
   "source": [
    "X[:, 1]"
   ]
  },
  {
   "cell_type": "code",
   "execution_count": 12,
   "id": "489972be",
   "metadata": {},
   "outputs": [
    {
     "data": {
      "image/png": "[encoded data removed]",
      "text/plain": [
       "<Figure size 432x288 with 1 Axes>"
      ]
     },
     "metadata": {
      "needs_background": "light"
     },
     "output_type": "display_data"
    }
   ],
   "source": [
    "# Проверка\n",
    "\n",
    "import matplotlib.pyplot as plt\n",
    "%matplotlib inline\n",
    "plt.scatter(X[:, 1], y)\n",
    "plt.plot(X[:, 1], np.dot(X, b))\n",
    "plt.show()\n"
   ]
  },
  {
   "cell_type": "markdown",
   "id": "3690acc7",
   "metadata": {},
   "source": [
    "#### Задание 2\n",
    "Посчитать коэффициент линейной регрессии при заработной плате (zp), используя градиентный спуск (без intercept)."
   ]
  },
  {
   "cell_type": "code",
   "execution_count": 13,
   "id": "73bf4442",
   "metadata": {},
   "outputs": [],
   "source": [
    "X = np.array(zp)\n",
    "y = np.array(ks)\n",
    "alpha = 1e-6\n",
    "\n",
    "def mse(B1, y=y, X=X, n=n):\n",
    "    return np.sum((B1 * X - y) ** 2) / n"
   ]
  },
  {
   "cell_type": "code",
   "execution_count": 14,
   "id": "cf9d2446",
   "metadata": {},
   "outputs": [
    {
     "name": "stdout",
     "output_type": "stream",
     "text": [
      "Iteration 0, B1=0.25952808, mse=493237.7212546963\n",
      "Iteration 100, B1=5.54537842245223, mse=58151.31823171113\n",
      "Iteration 200, B1=5.868748638669329, mse=56522.97550129376\n",
      "Iteration 300, B1=5.888531320728348, mse=56516.88130936019\n",
      "Iteration 400, B1=5.8897415574471985, mse=56516.85850140053\n",
      "Iteration 500, B1=5.889815595583751, mse=56516.858416040064\n",
      "Iteration 600, B1=5.889820124983314, mse=56516.85841572062\n",
      "Iteration 700, B1=5.889820402076462, mse=56516.85841571941\n",
      "Iteration 800, B1=5.88982041902807, mse=56516.8584157194\n",
      "Iteration 900, B1=5.889820420065112, mse=56516.85841571941\n"
     ]
    }
   ],
   "source": [
    "B1 = 0.1\n",
    "\n",
    "for i in range(1000):\n",
    "    B1 -= alpha * (2/n) * np.sum((B1 * X - y) * X)\n",
    "    if i % 100 == 0:\n",
    "        print(f'Iteration {i}, {B1=}, mse={mse(B1)}')"
   ]
  }
 ],
 "metadata": {
  "kernelspec": {
   "display_name": "Python 3 (ipykernel)",
   "language": "python",
   "name": "python3"
  },
  "language_info": {
   "codemirror_mode": {
    "name": "ipython",
    "version": 3
   },
   "file_extension": ".py",
   "mimetype": "text/x-python",
   "name": "python",
   "nbconvert_exporter": "python",
   "pygments_lexer": "ipython3",
   "version": "3.10.5"
  }
 },
 "nbformat": 4,
 "nbformat_minor": 5
}
